{
  "nbformat": 4,
  "nbformat_minor": 0,
  "metadata": {
    "colab": {
      "provenance": [],
      "authorship_tag": "ABX9TyO2Rr68chA6Pw3URbVWR3FV",
      "include_colab_link": true
    },
    "kernelspec": {
      "name": "python3",
      "display_name": "Python 3"
    },
    "language_info": {
      "name": "python"
    }
  },
  "cells": [
    {
      "cell_type": "markdown",
      "metadata": {
        "id": "view-in-github",
        "colab_type": "text"
      },
      "source": [
        "<a href=\"https://colab.research.google.com/github/selgebali/Colabs/blob/main/DataCite_2024_public_data_file_blog_post_(Jan_2025).ipynb\" target=\"_parent\"><img src=\"https://colab.research.google.com/assets/colab-badge.svg\" alt=\"Open In Colab\"/></a>"
      ]
    },
    {
      "cell_type": "markdown",
      "source": [
        "# ReadMe File\n",
        "\n",
        "## Resource Type Distribution Chart\n",
        "\n",
        "### Overview\n",
        "\n",
        "This script connects to a Google Sheet, retrieves data, and creates an interactive doughnut chart using Plotly. The chart visualizes the distribution of resource types and their respective counts.\n",
        "\n",
        "### Prerequisites\n",
        "\t•\tGoogle Account: Required to authenticate and access Google Sheets.\n",
        "\t•\tGoogle Sheet Permissions: Ensure the Google Sheet is shared with the client email provided in the creds object.\n",
        "\t•\tPython Libraries: Install the following libraries:\n",
        "\t•\tpandas: For data manipulation.\n",
        "\t•\tplotly: For creating the chart.\n",
        "\t•\tgspread: For accessing Google Sheets.\n",
        "\t•\tgoogle-auth: For authentication.\n",
        "\n",
        "\n",
        "## Steps to Use\n",
        "\n",
        "```\n",
        "1.  In the google sheet, format the column with numbers to Format--> Numbers--> Automatic\n",
        "2.  Replace sheet_url with the URL of your Google Sheet.\n",
        "3.  Check sharing permissions to ensure the Google Sheet is shared with the client email in your credentials.\n",
        "4.  Run the script in a Python environment Google Colab.\n",
        "```\n",
        "## Key Features\n",
        "\t•\tGoogle Sheets API Integration: Secure access to Google Sheets.\n",
        "\t•\tInteractive Doughnut Chart: Displays resource types, percentages, and counts.\n",
        "\t•\tDynamic Colors: Custom palette for visual distinction."
      ],
      "metadata": {
        "id": "HyWfUfRThgwg"
      }
    },
    {
      "cell_type": "code",
      "execution_count": null,
      "metadata": {
        "colab": {
          "base_uri": "https://localhost:8080/",
          "height": 1000
        },
        "id": "mmG-aRJifgbX",
        "outputId": "6f50d75e-d4b3-4db2-9c9d-7af1fed297fb"
      },
      "outputs": [
        {
          "output_type": "display_data",
          "data": {
            "text/html": [
              "<html>\n",
              "<head><meta charset=\"utf-8\" /></head>\n",
              "<body>\n",
              "    <div>            <script src=\"https://cdnjs.cloudflare.com/ajax/libs/mathjax/2.7.5/MathJax.js?config=TeX-AMS-MML_SVG\"></script><script type=\"text/javascript\">if (window.MathJax && window.MathJax.Hub && window.MathJax.Hub.Config) {window.MathJax.Hub.Config({SVG: {font: \"STIX-Web\"}});}</script>                <script type=\"text/javascript\">window.PlotlyConfig = {MathJaxConfig: 'local'};</script>\n",
              "        <script charset=\"utf-8\" src=\"https://cdn.plot.ly/plotly-2.35.2.min.js\"></script>                <div id=\"d5a8ea35-9a2c-4390-9196-10d41227cba1\" class=\"plotly-graph-div\" style=\"height:1200px; width:1500px;\"></div>            <script type=\"text/javascript\">                                    window.PLOTLYENV=window.PLOTLYENV || {};                                    if (document.getElementById(\"d5a8ea35-9a2c-4390-9196-10d41227cba1\")) {                    Plotly.newPlot(                        \"d5a8ea35-9a2c-4390-9196-10d41227cba1\",                        [{\"hole\":0.4,\"hoverinfo\":\"label+percent+value\",\"insidetextfont\":{\"color\":\"white\",\"size\":14},\"insidetextorientation\":\"radial\",\"labels\":[\"Dataset\",\"Text\",\"PhysicalObject\",\"Image\",\"JournalArticle\",\"Preprint\",\"Other\",\"Unknown\",\"Collection\",\"Software\",\"Audiovisual\",\"Dissertation\",\"ConferencePaper\",\"Report\",\"StudyRegistration\",\"Book\",\"InteractiveResource\",\"Event\",\"BookChapter\",\"Sound\",\"Journal\",\"Model\",\"ConferenceProceeding\",\"DataPaper\",\"PeerReview\",\"Workflow\",\"OutputManagementPlan\",\"Standard\",\"ComputationalNotebook\",\"Film\",\"Service\",\"Instrument\",\"Project\",\"Award\"],\"marker\":{\"colors\":[\"#2a4d69\",\"#00B1E2\",\"5b88b9\",\"46BCAB\",\"90d7cd\",\"#BC2B66\",\"eeee98\",\"F07C73\",\"#cccccc\",\"#cccccc\",\"#cccccc\",\"#cccccc\",\"#cccccc\",\"#cccccc\",\"#cccccc\",\"#cccccc\",\"#cccccc\",\"#cccccc\",\"#cccccc\",\"#cccccc\",\"#cccccc\",\"#cccccc\",\"#cccccc\",\"#cccccc\",\"#cccccc\",\"#cccccc\",\"#cccccc\",\"#cccccc\",\"#cccccc\",\"#cccccc\",\"#cccccc\",\"#cccccc\"],\"line\":{\"color\":\"#FFFFFF\",\"width\":2}},\"textinfo\":\"value+label\",\"textposition\":\"inside\",\"values\":[29866843,14616431,13537157,5092283,1426945,1342525,1335109,1321054,1081712,593560,452259,274499,180004,151151,134726,117885,106048,79662,75918,60321,39446,23213,16209,16067,14648,7199,5866,4531,4219,1424,474,191,13,5],\"type\":\"pie\"}],                        {\"template\":{\"data\":{\"histogram2dcontour\":[{\"type\":\"histogram2dcontour\",\"colorbar\":{\"outlinewidth\":0,\"ticks\":\"\"},\"colorscale\":[[0.0,\"#0d0887\"],[0.1111111111111111,\"#46039f\"],[0.2222222222222222,\"#7201a8\"],[0.3333333333333333,\"#9c179e\"],[0.4444444444444444,\"#bd3786\"],[0.5555555555555556,\"#d8576b\"],[0.6666666666666666,\"#ed7953\"],[0.7777777777777778,\"#fb9f3a\"],[0.8888888888888888,\"#fdca26\"],[1.0,\"#f0f921\"]]}],\"choropleth\":[{\"type\":\"choropleth\",\"colorbar\":{\"outlinewidth\":0,\"ticks\":\"\"}}],\"histogram2d\":[{\"type\":\"histogram2d\",\"colorbar\":{\"outlinewidth\":0,\"ticks\":\"\"},\"colorscale\":[[0.0,\"#0d0887\"],[0.1111111111111111,\"#46039f\"],[0.2222222222222222,\"#7201a8\"],[0.3333333333333333,\"#9c179e\"],[0.4444444444444444,\"#bd3786\"],[0.5555555555555556,\"#d8576b\"],[0.6666666666666666,\"#ed7953\"],[0.7777777777777778,\"#fb9f3a\"],[0.8888888888888888,\"#fdca26\"],[1.0,\"#f0f921\"]]}],\"heatmap\":[{\"type\":\"heatmap\",\"colorbar\":{\"outlinewidth\":0,\"ticks\":\"\"},\"colorscale\":[[0.0,\"#0d0887\"],[0.1111111111111111,\"#46039f\"],[0.2222222222222222,\"#7201a8\"],[0.3333333333333333,\"#9c179e\"],[0.4444444444444444,\"#bd3786\"],[0.5555555555555556,\"#d8576b\"],[0.6666666666666666,\"#ed7953\"],[0.7777777777777778,\"#fb9f3a\"],[0.8888888888888888,\"#fdca26\"],[1.0,\"#f0f921\"]]}],\"heatmapgl\":[{\"type\":\"heatmapgl\",\"colorbar\":{\"outlinewidth\":0,\"ticks\":\"\"},\"colorscale\":[[0.0,\"#0d0887\"],[0.1111111111111111,\"#46039f\"],[0.2222222222222222,\"#7201a8\"],[0.3333333333333333,\"#9c179e\"],[0.4444444444444444,\"#bd3786\"],[0.5555555555555556,\"#d8576b\"],[0.6666666666666666,\"#ed7953\"],[0.7777777777777778,\"#fb9f3a\"],[0.8888888888888888,\"#fdca26\"],[1.0,\"#f0f921\"]]}],\"contourcarpet\":[{\"type\":\"contourcarpet\",\"colorbar\":{\"outlinewidth\":0,\"ticks\":\"\"}}],\"contour\":[{\"type\":\"contour\",\"colorbar\":{\"outlinewidth\":0,\"ticks\":\"\"},\"colorscale\":[[0.0,\"#0d0887\"],[0.1111111111111111,\"#46039f\"],[0.2222222222222222,\"#7201a8\"],[0.3333333333333333,\"#9c179e\"],[0.4444444444444444,\"#bd3786\"],[0.5555555555555556,\"#d8576b\"],[0.6666666666666666,\"#ed7953\"],[0.7777777777777778,\"#fb9f3a\"],[0.8888888888888888,\"#fdca26\"],[1.0,\"#f0f921\"]]}],\"surface\":[{\"type\":\"surface\",\"colorbar\":{\"outlinewidth\":0,\"ticks\":\"\"},\"colorscale\":[[0.0,\"#0d0887\"],[0.1111111111111111,\"#46039f\"],[0.2222222222222222,\"#7201a8\"],[0.3333333333333333,\"#9c179e\"],[0.4444444444444444,\"#bd3786\"],[0.5555555555555556,\"#d8576b\"],[0.6666666666666666,\"#ed7953\"],[0.7777777777777778,\"#fb9f3a\"],[0.8888888888888888,\"#fdca26\"],[1.0,\"#f0f921\"]]}],\"mesh3d\":[{\"type\":\"mesh3d\",\"colorbar\":{\"outlinewidth\":0,\"ticks\":\"\"}}],\"scatter\":[{\"fillpattern\":{\"fillmode\":\"overlay\",\"size\":10,\"solidity\":0.2},\"type\":\"scatter\"}],\"parcoords\":[{\"type\":\"parcoords\",\"line\":{\"colorbar\":{\"outlinewidth\":0,\"ticks\":\"\"}}}],\"scatterpolargl\":[{\"type\":\"scatterpolargl\",\"marker\":{\"colorbar\":{\"outlinewidth\":0,\"ticks\":\"\"}}}],\"bar\":[{\"error_x\":{\"color\":\"#2a3f5f\"},\"error_y\":{\"color\":\"#2a3f5f\"},\"marker\":{\"line\":{\"color\":\"#E5ECF6\",\"width\":0.5},\"pattern\":{\"fillmode\":\"overlay\",\"size\":10,\"solidity\":0.2}},\"type\":\"bar\"}],\"scattergeo\":[{\"type\":\"scattergeo\",\"marker\":{\"colorbar\":{\"outlinewidth\":0,\"ticks\":\"\"}}}],\"scatterpolar\":[{\"type\":\"scatterpolar\",\"marker\":{\"colorbar\":{\"outlinewidth\":0,\"ticks\":\"\"}}}],\"histogram\":[{\"marker\":{\"pattern\":{\"fillmode\":\"overlay\",\"size\":10,\"solidity\":0.2}},\"type\":\"histogram\"}],\"scattergl\":[{\"type\":\"scattergl\",\"marker\":{\"colorbar\":{\"outlinewidth\":0,\"ticks\":\"\"}}}],\"scatter3d\":[{\"type\":\"scatter3d\",\"line\":{\"colorbar\":{\"outlinewidth\":0,\"ticks\":\"\"}},\"marker\":{\"colorbar\":{\"outlinewidth\":0,\"ticks\":\"\"}}}],\"scattermapbox\":[{\"type\":\"scattermapbox\",\"marker\":{\"colorbar\":{\"outlinewidth\":0,\"ticks\":\"\"}}}],\"scatterternary\":[{\"type\":\"scatterternary\",\"marker\":{\"colorbar\":{\"outlinewidth\":0,\"ticks\":\"\"}}}],\"scattercarpet\":[{\"type\":\"scattercarpet\",\"marker\":{\"colorbar\":{\"outlinewidth\":0,\"ticks\":\"\"}}}],\"carpet\":[{\"aaxis\":{\"endlinecolor\":\"#2a3f5f\",\"gridcolor\":\"white\",\"linecolor\":\"white\",\"minorgridcolor\":\"white\",\"startlinecolor\":\"#2a3f5f\"},\"baxis\":{\"endlinecolor\":\"#2a3f5f\",\"gridcolor\":\"white\",\"linecolor\":\"white\",\"minorgridcolor\":\"white\",\"startlinecolor\":\"#2a3f5f\"},\"type\":\"carpet\"}],\"table\":[{\"cells\":{\"fill\":{\"color\":\"#EBF0F8\"},\"line\":{\"color\":\"white\"}},\"header\":{\"fill\":{\"color\":\"#C8D4E3\"},\"line\":{\"color\":\"white\"}},\"type\":\"table\"}],\"barpolar\":[{\"marker\":{\"line\":{\"color\":\"#E5ECF6\",\"width\":0.5},\"pattern\":{\"fillmode\":\"overlay\",\"size\":10,\"solidity\":0.2}},\"type\":\"barpolar\"}],\"pie\":[{\"automargin\":true,\"type\":\"pie\"}]},\"layout\":{\"autotypenumbers\":\"strict\",\"colorway\":[\"#636efa\",\"#EF553B\",\"#00cc96\",\"#ab63fa\",\"#FFA15A\",\"#19d3f3\",\"#FF6692\",\"#B6E880\",\"#FF97FF\",\"#FECB52\"],\"font\":{\"color\":\"#2a3f5f\"},\"hovermode\":\"closest\",\"hoverlabel\":{\"align\":\"left\"},\"paper_bgcolor\":\"white\",\"plot_bgcolor\":\"#E5ECF6\",\"polar\":{\"bgcolor\":\"#E5ECF6\",\"angularaxis\":{\"gridcolor\":\"white\",\"linecolor\":\"white\",\"ticks\":\"\"},\"radialaxis\":{\"gridcolor\":\"white\",\"linecolor\":\"white\",\"ticks\":\"\"}},\"ternary\":{\"bgcolor\":\"#E5ECF6\",\"aaxis\":{\"gridcolor\":\"white\",\"linecolor\":\"white\",\"ticks\":\"\"},\"baxis\":{\"gridcolor\":\"white\",\"linecolor\":\"white\",\"ticks\":\"\"},\"caxis\":{\"gridcolor\":\"white\",\"linecolor\":\"white\",\"ticks\":\"\"}},\"coloraxis\":{\"colorbar\":{\"outlinewidth\":0,\"ticks\":\"\"}},\"colorscale\":{\"sequential\":[[0.0,\"#0d0887\"],[0.1111111111111111,\"#46039f\"],[0.2222222222222222,\"#7201a8\"],[0.3333333333333333,\"#9c179e\"],[0.4444444444444444,\"#bd3786\"],[0.5555555555555556,\"#d8576b\"],[0.6666666666666666,\"#ed7953\"],[0.7777777777777778,\"#fb9f3a\"],[0.8888888888888888,\"#fdca26\"],[1.0,\"#f0f921\"]],\"sequentialminus\":[[0.0,\"#0d0887\"],[0.1111111111111111,\"#46039f\"],[0.2222222222222222,\"#7201a8\"],[0.3333333333333333,\"#9c179e\"],[0.4444444444444444,\"#bd3786\"],[0.5555555555555556,\"#d8576b\"],[0.6666666666666666,\"#ed7953\"],[0.7777777777777778,\"#fb9f3a\"],[0.8888888888888888,\"#fdca26\"],[1.0,\"#f0f921\"]],\"diverging\":[[0,\"#8e0152\"],[0.1,\"#c51b7d\"],[0.2,\"#de77ae\"],[0.3,\"#f1b6da\"],[0.4,\"#fde0ef\"],[0.5,\"#f7f7f7\"],[0.6,\"#e6f5d0\"],[0.7,\"#b8e186\"],[0.8,\"#7fbc41\"],[0.9,\"#4d9221\"],[1,\"#276419\"]]},\"xaxis\":{\"gridcolor\":\"white\",\"linecolor\":\"white\",\"ticks\":\"\",\"title\":{\"standoff\":15},\"zerolinecolor\":\"white\",\"automargin\":true,\"zerolinewidth\":2},\"yaxis\":{\"gridcolor\":\"white\",\"linecolor\":\"white\",\"ticks\":\"\",\"title\":{\"standoff\":15},\"zerolinecolor\":\"white\",\"automargin\":true,\"zerolinewidth\":2},\"scene\":{\"xaxis\":{\"backgroundcolor\":\"#E5ECF6\",\"gridcolor\":\"white\",\"linecolor\":\"white\",\"showbackground\":true,\"ticks\":\"\",\"zerolinecolor\":\"white\",\"gridwidth\":2},\"yaxis\":{\"backgroundcolor\":\"#E5ECF6\",\"gridcolor\":\"white\",\"linecolor\":\"white\",\"showbackground\":true,\"ticks\":\"\",\"zerolinecolor\":\"white\",\"gridwidth\":2},\"zaxis\":{\"backgroundcolor\":\"#E5ECF6\",\"gridcolor\":\"white\",\"linecolor\":\"white\",\"showbackground\":true,\"ticks\":\"\",\"zerolinecolor\":\"white\",\"gridwidth\":2}},\"shapedefaults\":{\"line\":{\"color\":\"#2a3f5f\"}},\"annotationdefaults\":{\"arrowcolor\":\"#2a3f5f\",\"arrowhead\":0,\"arrowwidth\":1},\"geo\":{\"bgcolor\":\"white\",\"landcolor\":\"#E5ECF6\",\"subunitcolor\":\"white\",\"showland\":true,\"showlakes\":true,\"lakecolor\":\"white\"},\"title\":{\"x\":0.05},\"mapbox\":{\"style\":\"light\"}}},\"title\":{\"text\":\"Resource Type General Distribution\"},\"legend\":{\"yanchor\":\"top\",\"y\":1,\"xanchor\":\"left\",\"x\":1.5},\"margin\":{\"l\":50,\"r\":50,\"t\":50,\"b\":50},\"annotations\":[{\"showarrow\":false,\"text\":\"Resources\",\"x\":0.5,\"y\":0.5,\"font\":{\"size\":20}}],\"showlegend\":true,\"height\":1200,\"width\":1500,\"plot_bgcolor\":\"white\",\"paper_bgcolor\":\"white\"},                        {\"responsive\": true}                    ).then(function(){\n",
              "                            \n",
              "var gd = document.getElementById('d5a8ea35-9a2c-4390-9196-10d41227cba1');\n",
              "var x = new MutationObserver(function (mutations, observer) {{\n",
              "        var display = window.getComputedStyle(gd).display;\n",
              "        if (!display || display === 'none') {{\n",
              "            console.log([gd, 'removed!']);\n",
              "            Plotly.purge(gd);\n",
              "            observer.disconnect();\n",
              "        }}\n",
              "}});\n",
              "\n",
              "// Listen for the removal of the full notebook cells\n",
              "var notebookContainer = gd.closest('#notebook-container');\n",
              "if (notebookContainer) {{\n",
              "    x.observe(notebookContainer, {childList: true});\n",
              "}}\n",
              "\n",
              "// Listen for the clearing of the current output cell\n",
              "var outputEl = gd.closest('.output');\n",
              "if (outputEl) {{\n",
              "    x.observe(outputEl, {childList: true});\n",
              "}}\n",
              "\n",
              "                        })                };                            </script>        </div>\n",
              "</body>\n",
              "</html>"
            ]
          },
          "metadata": {}
        }
      ],
      "source": [
        "import pandas as pd\n",
        "import plotly.graph_objects as go\n",
        "\n",
        "# Authenticate and connect to Google Sheets\n",
        "from google.colab import auth  # For Google Colab-specific authentication\n",
        "auth.authenticate_user()  # Authenticates the user in Google Colab\n",
        "\n",
        "import gspread  # Library for interacting with Google Sheets\n",
        "from google.auth import default  # Default authentication method for Google APIs\n",
        "creds, _ = default()  # Retrieve the credentials\n",
        "gc = gspread.authorize(creds)  # Authorize gspread with the credentials\n",
        "\n",
        "# Load the data from the Google Sheet\n",
        "sheet_url = \"https://docs.google.com/spreadsheets/d/13q34AW6DBNaSE5wCOb-Cp1aJ6Q3UEevv13ROEpIFZKo/edit?gid=175982832#gid=175982832\"\n",
        "\n",
        "# Open the Google Sheet by its URL\n",
        "sheet = gc.open_by_url(sheet_url)  # Open the Google Sheet using its URL\n",
        "worksheet = sheet.get_worksheet(0)  # Get the first worksheet (tab) in the sheet\n",
        "\n",
        "# Read data into a pandas DataFrame\n",
        "df = pd.DataFrame(worksheet.get_all_values()[1:], columns=worksheet.get_all_values()[0])\n",
        "# Explanation:\n",
        "# - `get_all_values()` retrieves all rows from the worksheet as a list of lists.\n",
        "# - `[1:]` skips the header row (first row).\n",
        "# - `columns=worksheet.get_all_values()[0]` uses the first row as column headers.\n",
        "\n",
        "# Ensure no missing values, and convert the 'Count' column (Column B: index 1) to numeric\n",
        "df.iloc[:, 1] = pd.to_numeric(df.iloc[:, 1], errors='coerce').fillna(0)\n",
        "# Explanation:\n",
        "# - Converts the second column (index 1) to numeric, setting invalid entries to `NaN`.\n",
        "# - Replaces `NaN` with `0`.\n",
        "\n",
        "# Sort the data by count (Column B: index 1) in descending order\n",
        "df = df.sort_values(df.columns[1], ascending=False).reset_index(drop=True)\n",
        "# Explanation:\n",
        "# - Sorts the data based on the second column in descending order.\n",
        "# - Resets the index after sorting.\n",
        "\n",
        "# Define a muted color palette for the top 10, and grey for the rest\n",
        "colors = ['#2a4d69', '#00B1E2','5b88b9', '46BCAB', '90d7cd', '#BC2B66', 'eeee98', 'F07C73'] + ['#cccccc'] * (len(df) - 10)\n",
        "# Explanation:\n",
        "# - Top 10 categories are assigned specific colors.\n",
        "# - Remaining categories are colored grey.\n",
        "\n",
        "# Create hover text for all categories, even the small ones\n",
        "hover_text = [f'{df.iloc[i, 0]}: {df.iloc[i, 1]:,.0f}' for i in range(len(df))]\n",
        "# Explanation:\n",
        "# - Generates hover text for each category in the format: \"Category: Count\".\n",
        "\n",
        "# Plotly figure for an interactive doughnut chart\n",
        "fig = go.Figure(go.Pie(\n",
        "    labels=df.iloc[:, 0],  # Column A for resource types\n",
        "    values=df.iloc[:, 1],  # Column B for counts\n",
        "    hoverinfo='label+percent+value',  # Display label, percentage, and actual value on hover\n",
        "    textinfo='value+label',  # Display value and label on the slices\n",
        "    hole=0.4,  # Doughnut hole size\n",
        "    textposition='inside',  # Position text inside the slices\n",
        "    insidetextorientation='radial',  # Radial text orientation for better readability\n",
        "    insidetextfont=dict(size=14, color='white'),  # Font size and color for text inside slices\n",
        "    marker=dict(colors=colors, line=dict(color='#FFFFFF', width=2))  # Slice colors and white borders\n",
        "))\n",
        "\n",
        "# Update layout to add legend and ensure the chart is a circle\n",
        "fig.update_layout(\n",
        "    title_text=\"Resource Type General Distribution\",  # Chart title\n",
        "    annotations=[dict(text='Resources', x=0.5, y=0.5, font_size=20, showarrow=False)],  # Annotation inside the doughnut\n",
        "    showlegend=True,  # Enable the legend to show all categories\n",
        "    legend=dict(yanchor=\"top\", y=1, xanchor=\"left\", x=1.5),  # Place legend outside the chart\n",
        "    margin=dict(l=50, r=50, t=50, b=50),  # Adjust margins for better visualization\n",
        "    height=1200,  # Chart height\n",
        "    width=1500,  # Chart width\n",
        "    plot_bgcolor='white',  # Set plot background to white\n",
        "    paper_bgcolor='white'  # Set entire figure background to white\n",
        ")\n",
        "\n",
        "# Display the figure\n",
        "fig.show()\n"
      ]
    }
  ]
}